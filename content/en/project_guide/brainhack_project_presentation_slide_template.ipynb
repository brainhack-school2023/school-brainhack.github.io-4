{
 "cells": [
  {
   "cell_type": "markdown",
   "metadata": {
    "slideshow": {
     "slide_type": "slide"
    }
   },
   "source": [
    "# Project Title: My awesome project\n",
    "\n"
   ]
  },
  {
   "cell_type": "markdown",
   "metadata": {
    "slideshow": {
     "slide_type": "slide"
    }
   },
   "source": [
    "## About Me\n",
    "\n",
    "+ Here some info about me.\n",
    "+ Here more info about me!\n",
    "\n",
    "<img align=\"center\" width=\"200\" height=\"200\" src=\"https://www.nasa.gov/sites/default/files/thumbnails/image/edu_chandra_informal.jpg\">\n",
    "\n"
   ]
  },
  {
   "cell_type": "markdown",
   "metadata": {
    "slideshow": {
     "slide_type": "slide"
    }
   },
   "source": [
    "## Topic of Interest\n",
    "I would like to work on better understanding of **this particular topic** to develop myself in *that skill set* including: \n",
    "- Sub-topic 1 \n",
    "- Sub-topic 2 \n",
    "- Sub-topic 3 \n",
    " "
   ]
  },
  {
   "cell_type": "markdown",
   "metadata": {
    "slideshow": {
     "slide_type": "slide"
    }
   },
   "source": [
    "## The skills to learn\n",
    "I would like to learn the following skills including: \n",
    "\n",
    "- Sub-topic 1 \n",
    "- Sub-topic 2 \n",
    "- Sub-topic 3\n",
    " "
   ]
  },
  {
   "cell_type": "markdown",
   "metadata": {
    "slideshow": {
     "slide_type": "slide"
    }
   },
   "source": [
    "## Resources to use\n",
    "These ae the resouces I would like to use:\n",
    "- Sub-topic 1, \n",
    "- Sub-topic 2, \n",
    "- Sub-topic 3 \n",
    "\n",
    "<img width=\"100\" height=\"100\" src=\"https://cdn3.iconfinder.com/data/icons/logos-and-brands-adobe/512/267_Python-512.png\">\n",
    "\n",
    "<img width=\"100\" height=\"100\" src=\"https://lthub.ubc.ca/files/2021/06/GitHub-Logo.png\">\n",
    "\n",
    "<img width=\"100\" height=\"100\" src=\"https://uncommonsolutions.com/wp-content/uploads/2018/12/Microsoft-Docker-logo.png\">\n"
   ]
  },
  {
   "cell_type": "markdown",
   "metadata": {
    "slideshow": {
     "slide_type": "slide"
    }
   },
   "source": [
    "## Objectives to achieve\n",
    "The aim of this project is:<br />\n",
    "* Object 1\n",
    "* Object 2\n",
    "* Object 3  <br />"
   ]
  },
  {
   "cell_type": "markdown",
   "metadata": {
    "slideshow": {
     "slide_type": "slide"
    }
   },
   "source": [
    "## Deliverables of the Project\n",
    "The deliverables of this project is:<br />\n",
    "* Notebooks for community to use\n",
    "* Github repository\n",
    "* Training materials\n",
    "* Data <br />\n"
   ]
  },
  {
   "cell_type": "markdown",
   "metadata": {
    "slideshow": {
     "slide_type": "slide"
    }
   },
   "source": [
    "## Outcomes of the project\n",
    "- Outcome 1\n",
    "- Outcome 2\n",
    "- Outcome 3"
   ]
  },
  {
   "cell_type": "markdown",
   "metadata": {
    "slideshow": {
     "slide_type": "slide"
    }
   },
   "source": [
    "## References\n",
    "\n",
    "[1] \n",
    "[2] \n",
    "[3]\n"
   ]
  },
  {
   "cell_type": "markdown",
   "metadata": {
    "slideshow": {
     "slide_type": "slide"
    }
   },
   "source": [
    "## Anything else you want to add?\n",
    "\n",
    "\n"
   ]
  }
 ],
 "metadata": {
  "celltoolbar": "Slideshow",
  "kernelspec": {
   "display_name": "Python 3",
   "language": "python",
   "name": "python3"
  },
  "language_info": {
   "codemirror_mode": {
    "name": "ipython",
    "version": 3
   },
   "file_extension": ".py",
   "mimetype": "text/x-python",
   "name": "python",
   "nbconvert_exporter": "python",
   "pygments_lexer": "ipython3",
   "version": "3.7.9"
  },
  "varInspector": {
   "cols": {
    "lenName": 16,
    "lenType": 16,
    "lenVar": 40
   },
   "kernels_config": {
    "python": {
     "delete_cmd_postfix": "",
     "delete_cmd_prefix": "del ",
     "library": "var_list.py",
     "varRefreshCmd": "print(var_dic_list())"
    },
    "r": {
     "delete_cmd_postfix": ") ",
     "delete_cmd_prefix": "rm(",
     "library": "var_list.r",
     "varRefreshCmd": "cat(var_dic_list()) "
    }
   },
   "types_to_exclude": [
    "module",
    "function",
    "builtin_function_or_method",
    "instance",
    "_Feature"
   ],
   "window_display": false
  }
 },
 "nbformat": 4,
 "nbformat_minor": 5
}
